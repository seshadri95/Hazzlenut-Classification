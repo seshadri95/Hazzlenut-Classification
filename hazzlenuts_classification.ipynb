{
 "cells": [
  {
   "cell_type": "code",
   "execution_count": 1,
   "metadata": {},
   "outputs": [],
   "source": [
    "import pandas as pd\n",
    "import numpy as np\n",
    "import matplotlib.pyplot as plt\n",
    "import seaborn as sns\n",
    "%matplotlib inline"
   ]
  },
  {
   "cell_type": "code",
   "execution_count": 2,
   "metadata": {},
   "outputs": [],
   "source": [
    "\n",
    "df = pd.read_csv('hazzlenuts.txt',header = None,sep = '\t').transpose()\n",
    "\n",
    "df.columns = ['sample_id', 'length', 'width', 'thickness', 'surface_area', 'mass', 'compactness', 'hardness', 'shell_radius', 'water_content', 'carbohydrate', 'variety']"
   ]
  },
  {
   "cell_type": "code",
   "execution_count": 3,
   "metadata": {},
   "outputs": [
    {
     "data": {
      "text/html": [
       "<div>\n",
       "<style scoped>\n",
       "    .dataframe tbody tr th:only-of-type {\n",
       "        vertical-align: middle;\n",
       "    }\n",
       "\n",
       "    .dataframe tbody tr th {\n",
       "        vertical-align: top;\n",
       "    }\n",
       "\n",
       "    .dataframe thead th {\n",
       "        text-align: right;\n",
       "    }\n",
       "</style>\n",
       "<table border=\"1\" class=\"dataframe\">\n",
       "  <thead>\n",
       "    <tr style=\"text-align: right;\">\n",
       "      <th></th>\n",
       "      <th>sample_id</th>\n",
       "      <th>length</th>\n",
       "      <th>width</th>\n",
       "      <th>thickness</th>\n",
       "      <th>surface_area</th>\n",
       "      <th>mass</th>\n",
       "      <th>compactness</th>\n",
       "      <th>hardness</th>\n",
       "      <th>shell_radius</th>\n",
       "      <th>water_content</th>\n",
       "      <th>carbohydrate</th>\n",
       "      <th>variety</th>\n",
       "    </tr>\n",
       "  </thead>\n",
       "  <tbody>\n",
       "    <tr>\n",
       "      <td>0</td>\n",
       "      <td>71</td>\n",
       "      <td>11.67</td>\n",
       "      <td>12.8025</td>\n",
       "      <td>8.055074738</td>\n",
       "      <td>34.65</td>\n",
       "      <td>1375.5</td>\n",
       "      <td>0.93005</td>\n",
       "      <td>19.145</td>\n",
       "      <td>4.4604</td>\n",
       "      <td>0.048667685</td>\n",
       "      <td>0.175</td>\n",
       "      <td>c_avellana</td>\n",
       "    </tr>\n",
       "    <tr>\n",
       "      <td>1</td>\n",
       "      <td>72</td>\n",
       "      <td>13.86</td>\n",
       "      <td>13.0995</td>\n",
       "      <td>7.349906812</td>\n",
       "      <td>38.1</td>\n",
       "      <td>1439.55</td>\n",
       "      <td>0.93401</td>\n",
       "      <td>8.78</td>\n",
       "      <td>4.7844</td>\n",
       "      <td>0.048826089</td>\n",
       "      <td>0.167</td>\n",
       "      <td>c_avellana</td>\n",
       "    </tr>\n",
       "    <tr>\n",
       "      <td>2</td>\n",
       "      <td>1</td>\n",
       "      <td>20.53</td>\n",
       "      <td>15.5925</td>\n",
       "      <td>9.565426582</td>\n",
       "      <td>49.89</td>\n",
       "      <td>1623.3</td>\n",
       "      <td>0.96217</td>\n",
       "      <td>5.12</td>\n",
       "      <td>5.2893</td>\n",
       "      <td>0.049521325</td>\n",
       "      <td>0.174</td>\n",
       "      <td>c_americana</td>\n",
       "    </tr>\n",
       "    <tr>\n",
       "      <td>3</td>\n",
       "      <td>73</td>\n",
       "      <td>14.13</td>\n",
       "      <td>12.222</td>\n",
       "      <td>7.182948645</td>\n",
       "      <td>35.43</td>\n",
       "      <td>1412.25</td>\n",
       "      <td>0.90178</td>\n",
       "      <td>13.694</td>\n",
       "      <td>4.8168</td>\n",
       "      <td>0.049594663</td>\n",
       "      <td>0.167</td>\n",
       "      <td>c_avellana</td>\n",
       "    </tr>\n",
       "    <tr>\n",
       "      <td>4</td>\n",
       "      <td>2</td>\n",
       "      <td>15.85</td>\n",
       "      <td>14.724</td>\n",
       "      <td>8.622661318</td>\n",
       "      <td>43.29</td>\n",
       "      <td>1512</td>\n",
       "      <td>0.96261</td>\n",
       "      <td>10.925</td>\n",
       "      <td>4.6296</td>\n",
       "      <td>0.050384315</td>\n",
       "      <td>0.173</td>\n",
       "      <td>c_americana</td>\n",
       "    </tr>\n",
       "  </tbody>\n",
       "</table>\n",
       "</div>"
      ],
      "text/plain": [
       "  sample_id length    width    thickness surface_area     mass compactness  \\\n",
       "0        71  11.67  12.8025  8.055074738        34.65   1375.5     0.93005   \n",
       "1        72  13.86  13.0995  7.349906812         38.1  1439.55     0.93401   \n",
       "2         1  20.53  15.5925  9.565426582        49.89   1623.3     0.96217   \n",
       "3        73  14.13   12.222  7.182948645        35.43  1412.25     0.90178   \n",
       "4         2  15.85   14.724  8.622661318        43.29     1512     0.96261   \n",
       "\n",
       "  hardness shell_radius water_content carbohydrate      variety  \n",
       "0   19.145       4.4604   0.048667685        0.175   c_avellana  \n",
       "1     8.78       4.7844   0.048826089        0.167   c_avellana  \n",
       "2     5.12       5.2893   0.049521325        0.174  c_americana  \n",
       "3   13.694       4.8168   0.049594663        0.167   c_avellana  \n",
       "4   10.925       4.6296   0.050384315        0.173  c_americana  "
      ]
     },
     "execution_count": 3,
     "metadata": {},
     "output_type": "execute_result"
    }
   ],
   "source": [
    "df.head(5)"
   ]
  },
  {
   "cell_type": "code",
   "execution_count": 4,
   "metadata": {},
   "outputs": [
    {
     "name": "stdout",
     "output_type": "stream",
     "text": [
      "<class 'pandas.core.frame.DataFrame'>\n",
      "Int64Index: 201 entries, 0 to 200\n",
      "Data columns (total 12 columns):\n",
      "sample_id        201 non-null object\n",
      "length           201 non-null object\n",
      "width            201 non-null object\n",
      "thickness        201 non-null object\n",
      "surface_area     201 non-null object\n",
      "mass             201 non-null object\n",
      "compactness      201 non-null object\n",
      "hardness         201 non-null object\n",
      "shell_radius     201 non-null object\n",
      "water_content    201 non-null object\n",
      "carbohydrate     201 non-null object\n",
      "variety          201 non-null object\n",
      "dtypes: object(12)\n",
      "memory usage: 20.4+ KB\n"
     ]
    }
   ],
   "source": [
    "df.info()"
   ]
  },
  {
   "cell_type": "code",
   "execution_count": 5,
   "metadata": {},
   "outputs": [
    {
     "data": {
      "text/plain": [
       "'18.1485'"
      ]
     },
     "execution_count": 5,
     "metadata": {},
     "output_type": "execute_result"
    }
   ],
   "source": [
    "df.width.max()"
   ]
  },
  {
   "cell_type": "code",
   "execution_count": 6,
   "metadata": {},
   "outputs": [
    {
     "data": {
      "text/plain": [
       "sample_id        object\n",
       "length           object\n",
       "width            object\n",
       "thickness        object\n",
       "surface_area     object\n",
       "mass             object\n",
       "compactness      object\n",
       "hardness         object\n",
       "shell_radius     object\n",
       "water_content    object\n",
       "carbohydrate     object\n",
       "variety          object\n",
       "dtype: object"
      ]
     },
     "execution_count": 6,
     "metadata": {},
     "output_type": "execute_result"
    }
   ],
   "source": [
    "df.dtypes"
   ]
  },
  {
   "cell_type": "code",
   "execution_count": 7,
   "metadata": {},
   "outputs": [],
   "source": [
    "for col in df.columns[0:len(df.columns) - 1]:\n",
    "    df[col] = pd.to_numeric(df[col])"
   ]
  },
  {
   "cell_type": "code",
   "execution_count": 8,
   "metadata": {},
   "outputs": [
    {
     "data": {
      "text/plain": [
       "sample_id          int64\n",
       "length           float64\n",
       "width            float64\n",
       "thickness        float64\n",
       "surface_area     float64\n",
       "mass             float64\n",
       "compactness      float64\n",
       "hardness         float64\n",
       "shell_radius     float64\n",
       "water_content    float64\n",
       "carbohydrate     float64\n",
       "variety           object\n",
       "dtype: object"
      ]
     },
     "execution_count": 8,
     "metadata": {},
     "output_type": "execute_result"
    }
   ],
   "source": [
    "df.dtypes"
   ]
  },
  {
   "cell_type": "code",
   "execution_count": 9,
   "metadata": {},
   "outputs": [
    {
     "data": {
      "text/html": [
       "<div>\n",
       "<style scoped>\n",
       "    .dataframe tbody tr th:only-of-type {\n",
       "        vertical-align: middle;\n",
       "    }\n",
       "\n",
       "    .dataframe tbody tr th {\n",
       "        vertical-align: top;\n",
       "    }\n",
       "\n",
       "    .dataframe thead th {\n",
       "        text-align: right;\n",
       "    }\n",
       "</style>\n",
       "<table border=\"1\" class=\"dataframe\">\n",
       "  <thead>\n",
       "    <tr style=\"text-align: right;\">\n",
       "      <th></th>\n",
       "      <th>sample_id</th>\n",
       "      <th>length</th>\n",
       "      <th>width</th>\n",
       "      <th>thickness</th>\n",
       "      <th>surface_area</th>\n",
       "      <th>mass</th>\n",
       "      <th>compactness</th>\n",
       "      <th>hardness</th>\n",
       "      <th>shell_radius</th>\n",
       "      <th>water_content</th>\n",
       "      <th>carbohydrate</th>\n",
       "    </tr>\n",
       "  </thead>\n",
       "  <tbody>\n",
       "    <tr>\n",
       "      <td>count</td>\n",
       "      <td>201.000000</td>\n",
       "      <td>201.000000</td>\n",
       "      <td>201.000000</td>\n",
       "      <td>201.000000</td>\n",
       "      <td>201.000000</td>\n",
       "      <td>201.000000</td>\n",
       "      <td>201.000000</td>\n",
       "      <td>201.000000</td>\n",
       "      <td>201.000000</td>\n",
       "      <td>201.000000</td>\n",
       "      <td>201.000000</td>\n",
       "    </tr>\n",
       "    <tr>\n",
       "      <td>mean</td>\n",
       "      <td>101.000000</td>\n",
       "      <td>16.230547</td>\n",
       "      <td>14.691403</td>\n",
       "      <td>8.656044</td>\n",
       "      <td>44.582388</td>\n",
       "      <td>1528.726866</td>\n",
       "      <td>0.959193</td>\n",
       "      <td>10.042869</td>\n",
       "      <td>4.857443</td>\n",
       "      <td>0.074158</td>\n",
       "      <td>0.170736</td>\n",
       "    </tr>\n",
       "    <tr>\n",
       "      <td>std</td>\n",
       "      <td>58.167861</td>\n",
       "      <td>4.339335</td>\n",
       "      <td>1.684958</td>\n",
       "      <td>0.971562</td>\n",
       "      <td>8.638540</td>\n",
       "      <td>135.471589</td>\n",
       "      <td>0.025589</td>\n",
       "      <td>4.561621</td>\n",
       "      <td>0.435869</td>\n",
       "      <td>0.015144</td>\n",
       "      <td>0.002887</td>\n",
       "    </tr>\n",
       "    <tr>\n",
       "      <td>min</td>\n",
       "      <td>1.000000</td>\n",
       "      <td>8.990000</td>\n",
       "      <td>11.835000</td>\n",
       "      <td>6.733252</td>\n",
       "      <td>31.770000</td>\n",
       "      <td>1303.050000</td>\n",
       "      <td>0.888910</td>\n",
       "      <td>1.295300</td>\n",
       "      <td>4.067100</td>\n",
       "      <td>0.048668</td>\n",
       "      <td>0.166000</td>\n",
       "    </tr>\n",
       "    <tr>\n",
       "      <td>25%</td>\n",
       "      <td>51.000000</td>\n",
       "      <td>12.620000</td>\n",
       "      <td>13.320000</td>\n",
       "      <td>7.864724</td>\n",
       "      <td>37.110000</td>\n",
       "      <td>1414.350000</td>\n",
       "      <td>0.944240</td>\n",
       "      <td>6.512000</td>\n",
       "      <td>4.539600</td>\n",
       "      <td>0.060596</td>\n",
       "      <td>0.168000</td>\n",
       "    </tr>\n",
       "    <tr>\n",
       "      <td>50%</td>\n",
       "      <td>101.000000</td>\n",
       "      <td>15.270000</td>\n",
       "      <td>14.589000</td>\n",
       "      <td>8.663378</td>\n",
       "      <td>43.110000</td>\n",
       "      <td>1506.750000</td>\n",
       "      <td>0.962170</td>\n",
       "      <td>9.758000</td>\n",
       "      <td>4.699800</td>\n",
       "      <td>0.073352</td>\n",
       "      <td>0.171000</td>\n",
       "    </tr>\n",
       "    <tr>\n",
       "      <td>75%</td>\n",
       "      <td>151.000000</td>\n",
       "      <td>19.790000</td>\n",
       "      <td>16.033500</td>\n",
       "      <td>9.483580</td>\n",
       "      <td>51.780000</td>\n",
       "      <td>1645.350000</td>\n",
       "      <td>0.976800</td>\n",
       "      <td>13.268000</td>\n",
       "      <td>5.289300</td>\n",
       "      <td>0.088250</td>\n",
       "      <td>0.173000</td>\n",
       "    </tr>\n",
       "    <tr>\n",
       "      <td>max</td>\n",
       "      <td>201.000000</td>\n",
       "      <td>26.750000</td>\n",
       "      <td>18.148500</td>\n",
       "      <td>10.804900</td>\n",
       "      <td>63.540000</td>\n",
       "      <td>1811.250000</td>\n",
       "      <td>1.010130</td>\n",
       "      <td>24.368000</td>\n",
       "      <td>5.895000</td>\n",
       "      <td>0.100875</td>\n",
       "      <td>0.175000</td>\n",
       "    </tr>\n",
       "  </tbody>\n",
       "</table>\n",
       "</div>"
      ],
      "text/plain": [
       "        sample_id      length       width   thickness  surface_area  \\\n",
       "count  201.000000  201.000000  201.000000  201.000000    201.000000   \n",
       "mean   101.000000   16.230547   14.691403    8.656044     44.582388   \n",
       "std     58.167861    4.339335    1.684958    0.971562      8.638540   \n",
       "min      1.000000    8.990000   11.835000    6.733252     31.770000   \n",
       "25%     51.000000   12.620000   13.320000    7.864724     37.110000   \n",
       "50%    101.000000   15.270000   14.589000    8.663378     43.110000   \n",
       "75%    151.000000   19.790000   16.033500    9.483580     51.780000   \n",
       "max    201.000000   26.750000   18.148500   10.804900     63.540000   \n",
       "\n",
       "              mass  compactness    hardness  shell_radius  water_content  \\\n",
       "count   201.000000   201.000000  201.000000    201.000000     201.000000   \n",
       "mean   1528.726866     0.959193   10.042869      4.857443       0.074158   \n",
       "std     135.471589     0.025589    4.561621      0.435869       0.015144   \n",
       "min    1303.050000     0.888910    1.295300      4.067100       0.048668   \n",
       "25%    1414.350000     0.944240    6.512000      4.539600       0.060596   \n",
       "50%    1506.750000     0.962170    9.758000      4.699800       0.073352   \n",
       "75%    1645.350000     0.976800   13.268000      5.289300       0.088250   \n",
       "max    1811.250000     1.010130   24.368000      5.895000       0.100875   \n",
       "\n",
       "       carbohydrate  \n",
       "count    201.000000  \n",
       "mean       0.170736  \n",
       "std        0.002887  \n",
       "min        0.166000  \n",
       "25%        0.168000  \n",
       "50%        0.171000  \n",
       "75%        0.173000  \n",
       "max        0.175000  "
      ]
     },
     "execution_count": 9,
     "metadata": {},
     "output_type": "execute_result"
    }
   ],
   "source": [
    "df.describe()"
   ]
  },
  {
   "cell_type": "code",
   "execution_count": 10,
   "metadata": {},
   "outputs": [
    {
     "data": {
      "text/plain": [
       "c_americana    70\n",
       "c_cornuta      66\n",
       "c_avellana     65\n",
       "Name: variety, dtype: int64"
      ]
     },
     "execution_count": 10,
     "metadata": {},
     "output_type": "execute_result"
    }
   ],
   "source": [
    "df['variety'].value_counts() # To check if oour data is skewed towards particular class or not"
   ]
  },
  {
   "cell_type": "code",
   "execution_count": 11,
   "metadata": {},
   "outputs": [
    {
     "data": {
      "text/html": [
       "<div>\n",
       "<style scoped>\n",
       "    .dataframe tbody tr th:only-of-type {\n",
       "        vertical-align: middle;\n",
       "    }\n",
       "\n",
       "    .dataframe tbody tr th {\n",
       "        vertical-align: top;\n",
       "    }\n",
       "\n",
       "    .dataframe thead th {\n",
       "        text-align: right;\n",
       "    }\n",
       "</style>\n",
       "<table border=\"1\" class=\"dataframe\">\n",
       "  <thead>\n",
       "    <tr style=\"text-align: right;\">\n",
       "      <th></th>\n",
       "      <th>length</th>\n",
       "      <th>width</th>\n",
       "      <th>thickness</th>\n",
       "      <th>surface_area</th>\n",
       "      <th>mass</th>\n",
       "      <th>compactness</th>\n",
       "      <th>hardness</th>\n",
       "      <th>shell_radius</th>\n",
       "      <th>water_content</th>\n",
       "      <th>carbohydrate</th>\n",
       "    </tr>\n",
       "  </thead>\n",
       "  <tbody>\n",
       "    <tr>\n",
       "      <td>length</td>\n",
       "      <td>1.000000</td>\n",
       "      <td>NaN</td>\n",
       "      <td>NaN</td>\n",
       "      <td>0.952116</td>\n",
       "      <td>0.973498</td>\n",
       "      <td>NaN</td>\n",
       "      <td>NaN</td>\n",
       "      <td>NaN</td>\n",
       "      <td>NaN</td>\n",
       "      <td>NaN</td>\n",
       "    </tr>\n",
       "    <tr>\n",
       "      <td>width</td>\n",
       "      <td>NaN</td>\n",
       "      <td>1.000000</td>\n",
       "      <td>0.954332</td>\n",
       "      <td>0.971469</td>\n",
       "      <td>NaN</td>\n",
       "      <td>NaN</td>\n",
       "      <td>NaN</td>\n",
       "      <td>NaN</td>\n",
       "      <td>NaN</td>\n",
       "      <td>NaN</td>\n",
       "    </tr>\n",
       "    <tr>\n",
       "      <td>thickness</td>\n",
       "      <td>NaN</td>\n",
       "      <td>0.954332</td>\n",
       "      <td>1.000000</td>\n",
       "      <td>NaN</td>\n",
       "      <td>NaN</td>\n",
       "      <td>NaN</td>\n",
       "      <td>NaN</td>\n",
       "      <td>NaN</td>\n",
       "      <td>NaN</td>\n",
       "      <td>NaN</td>\n",
       "    </tr>\n",
       "    <tr>\n",
       "      <td>surface_area</td>\n",
       "      <td>0.952116</td>\n",
       "      <td>0.971469</td>\n",
       "      <td>NaN</td>\n",
       "      <td>1.000000</td>\n",
       "      <td>0.994397</td>\n",
       "      <td>NaN</td>\n",
       "      <td>NaN</td>\n",
       "      <td>NaN</td>\n",
       "      <td>NaN</td>\n",
       "      <td>NaN</td>\n",
       "    </tr>\n",
       "    <tr>\n",
       "      <td>mass</td>\n",
       "      <td>0.973498</td>\n",
       "      <td>NaN</td>\n",
       "      <td>NaN</td>\n",
       "      <td>0.994397</td>\n",
       "      <td>1.000000</td>\n",
       "      <td>NaN</td>\n",
       "      <td>NaN</td>\n",
       "      <td>NaN</td>\n",
       "      <td>NaN</td>\n",
       "      <td>NaN</td>\n",
       "    </tr>\n",
       "    <tr>\n",
       "      <td>compactness</td>\n",
       "      <td>NaN</td>\n",
       "      <td>NaN</td>\n",
       "      <td>NaN</td>\n",
       "      <td>NaN</td>\n",
       "      <td>NaN</td>\n",
       "      <td>1.0</td>\n",
       "      <td>NaN</td>\n",
       "      <td>NaN</td>\n",
       "      <td>NaN</td>\n",
       "      <td>NaN</td>\n",
       "    </tr>\n",
       "    <tr>\n",
       "      <td>hardness</td>\n",
       "      <td>NaN</td>\n",
       "      <td>NaN</td>\n",
       "      <td>NaN</td>\n",
       "      <td>NaN</td>\n",
       "      <td>NaN</td>\n",
       "      <td>NaN</td>\n",
       "      <td>1.0</td>\n",
       "      <td>NaN</td>\n",
       "      <td>NaN</td>\n",
       "      <td>NaN</td>\n",
       "    </tr>\n",
       "    <tr>\n",
       "      <td>shell_radius</td>\n",
       "      <td>NaN</td>\n",
       "      <td>NaN</td>\n",
       "      <td>NaN</td>\n",
       "      <td>NaN</td>\n",
       "      <td>NaN</td>\n",
       "      <td>NaN</td>\n",
       "      <td>NaN</td>\n",
       "      <td>1.0</td>\n",
       "      <td>NaN</td>\n",
       "      <td>NaN</td>\n",
       "    </tr>\n",
       "    <tr>\n",
       "      <td>water_content</td>\n",
       "      <td>NaN</td>\n",
       "      <td>NaN</td>\n",
       "      <td>NaN</td>\n",
       "      <td>NaN</td>\n",
       "      <td>NaN</td>\n",
       "      <td>NaN</td>\n",
       "      <td>NaN</td>\n",
       "      <td>NaN</td>\n",
       "      <td>1.0</td>\n",
       "      <td>NaN</td>\n",
       "    </tr>\n",
       "    <tr>\n",
       "      <td>carbohydrate</td>\n",
       "      <td>NaN</td>\n",
       "      <td>NaN</td>\n",
       "      <td>NaN</td>\n",
       "      <td>NaN</td>\n",
       "      <td>NaN</td>\n",
       "      <td>NaN</td>\n",
       "      <td>NaN</td>\n",
       "      <td>NaN</td>\n",
       "      <td>NaN</td>\n",
       "      <td>1.0</td>\n",
       "    </tr>\n",
       "  </tbody>\n",
       "</table>\n",
       "</div>"
      ],
      "text/plain": [
       "                 length     width  thickness  surface_area      mass  \\\n",
       "length         1.000000       NaN        NaN      0.952116  0.973498   \n",
       "width               NaN  1.000000   0.954332      0.971469       NaN   \n",
       "thickness           NaN  0.954332   1.000000           NaN       NaN   \n",
       "surface_area   0.952116  0.971469        NaN      1.000000  0.994397   \n",
       "mass           0.973498       NaN        NaN      0.994397  1.000000   \n",
       "compactness         NaN       NaN        NaN           NaN       NaN   \n",
       "hardness            NaN       NaN        NaN           NaN       NaN   \n",
       "shell_radius        NaN       NaN        NaN           NaN       NaN   \n",
       "water_content       NaN       NaN        NaN           NaN       NaN   \n",
       "carbohydrate        NaN       NaN        NaN           NaN       NaN   \n",
       "\n",
       "               compactness  hardness  shell_radius  water_content  \\\n",
       "length                 NaN       NaN           NaN            NaN   \n",
       "width                  NaN       NaN           NaN            NaN   \n",
       "thickness              NaN       NaN           NaN            NaN   \n",
       "surface_area           NaN       NaN           NaN            NaN   \n",
       "mass                   NaN       NaN           NaN            NaN   \n",
       "compactness            1.0       NaN           NaN            NaN   \n",
       "hardness               NaN       1.0           NaN            NaN   \n",
       "shell_radius           NaN       NaN           1.0            NaN   \n",
       "water_content          NaN       NaN           NaN            1.0   \n",
       "carbohydrate           NaN       NaN           NaN            NaN   \n",
       "\n",
       "               carbohydrate  \n",
       "length                  NaN  \n",
       "width                   NaN  \n",
       "thickness               NaN  \n",
       "surface_area            NaN  \n",
       "mass                    NaN  \n",
       "compactness             NaN  \n",
       "hardness                NaN  \n",
       "shell_radius            NaN  \n",
       "water_content           NaN  \n",
       "carbohydrate            1.0  "
      ]
     },
     "execution_count": 11,
     "metadata": {},
     "output_type": "execute_result"
    }
   ],
   "source": [
    "corr_matrix = df.iloc[: , 1: ].corr() # neglecting sample_id column as its not needed\n",
    "corr_matrix[(corr_matrix < -0.95) | (corr_matrix > 0.95)  ] # viewing both positive and negative correlation"
   ]
  },
  {
   "cell_type": "markdown",
   "metadata": {},
   "source": [
    "Observed that 'mass' & 'surface_area' are highly correlated"
   ]
  },
  {
   "cell_type": "code",
   "execution_count": 12,
   "metadata": {},
   "outputs": [
    {
     "data": {
      "text/plain": [
       "<matplotlib.axes._subplots.AxesSubplot at 0x29a5e87a710>"
      ]
     },
     "execution_count": 12,
     "metadata": {},
     "output_type": "execute_result"
    },
    {
     "data": {
      "image/png": "[encoded data removed]",
      "text/plain": [
       "<Figure size 432x288 with 2 Axes>"
      ]
     },
     "metadata": {
      "needs_background": "light"
     },
     "output_type": "display_data"
    }
   ],
   "source": [
    "sns.heatmap(corr_matrix,cmap=\"coolwarm\")"
   ]
  },
  {
   "cell_type": "code",
   "execution_count": 13,
   "metadata": {},
   "outputs": [],
   "source": [
    "#sns.pairplot(df)"
   ]
  },
  {
   "cell_type": "code",
   "execution_count": 14,
   "metadata": {},
   "outputs": [],
   "source": [
    "df['variety'].unique()\n",
    "class_dict = {'c_avellana':0, 'c_americana':1, 'c_cornuta':2}\n",
    "df['variety'] = df['variety'].apply(lambda x : class_dict[x])"
   ]
  },
  {
   "cell_type": "code",
   "execution_count": 15,
   "metadata": {},
   "outputs": [],
   "source": [
    "x = df.iloc[:, [1,2,3,5,6,7,8,9,10]].values\n",
    "y = df.iloc[:, 11].values"
   ]
  },
  {
   "cell_type": "code",
   "execution_count": 16,
   "metadata": {},
   "outputs": [
    {
     "data": {
      "text/plain": [
       "array([0, 0, 1, 0, 1, 2, 0, 0, 1, 2, 2, 0, 0, 1, 2, 1, 1, 2, 0, 2, 0, 0,\n",
       "       1, 1, 0, 0, 2, 1, 2, 0, 1, 0, 1, 1, 1, 1, 1, 0, 0, 0, 2, 0, 2, 2,\n",
       "       2, 1, 0, 1, 1, 1, 1, 0, 2, 0, 1, 1, 1, 2, 0, 0, 1, 0, 1, 0, 2, 2,\n",
       "       0, 0, 2, 2, 1, 1, 2, 2, 0, 1, 2, 0, 0, 1, 1, 1, 1, 0, 2, 1, 2, 1,\n",
       "       2, 2, 0, 2, 1, 1, 1, 0, 1, 1, 0, 0, 2, 0, 1, 1, 1, 0, 1, 1, 2, 1,\n",
       "       2, 0, 0, 2, 1, 0, 1, 0, 0, 1, 0, 0, 2, 2, 2, 1, 1, 1, 2, 1, 2, 0,\n",
       "       2, 1, 2, 0, 0, 2, 0, 0, 0, 1, 0, 2, 2, 0, 2, 0, 2, 2, 0, 2, 0, 2,\n",
       "       2, 2, 2, 0, 0, 1, 0, 0, 0, 1, 1, 2, 2, 2, 0, 0, 2, 0, 1, 2, 2, 1,\n",
       "       1, 2, 1, 1, 2, 2, 2, 2, 1, 2, 1, 1, 0, 2, 1, 1, 1, 2, 1, 0, 2, 2,\n",
       "       1, 2, 2], dtype=int64)"
      ]
     },
     "execution_count": 16,
     "metadata": {},
     "output_type": "execute_result"
    }
   ],
   "source": [
    "y"
   ]
  },
  {
   "cell_type": "code",
   "execution_count": 17,
   "metadata": {},
   "outputs": [],
   "source": [
    "from sklearn.model_selection import train_test_split\n",
    "x_train, x_test, y_train, y_test = train_test_split(x, y, test_size = 0.25, random_state = 0)\n"
   ]
  },
  {
   "cell_type": "code",
   "execution_count": 18,
   "metadata": {},
   "outputs": [
    {
     "data": {
      "text/plain": [
       "[14.79,\n",
       " 14.202,\n",
       " 8.864132181,\n",
       " 1476.3,\n",
       " 0.96349,\n",
       " 8.408,\n",
       " 4.3848,\n",
       " 0.09532191699999999,\n",
       " 0.17300000000000001]"
      ]
     },
     "execution_count": 18,
     "metadata": {},
     "output_type": "execute_result"
    }
   ],
   "source": [
    "x_train.tolist()[1]\n"
   ]
  },
  {
   "cell_type": "code",
   "execution_count": 19,
   "metadata": {},
   "outputs": [
    {
     "data": {
      "text/plain": [
       "<matplotlib.axes._subplots.AxesSubplot at 0x29a5f435da0>"
      ]
     },
     "execution_count": 19,
     "metadata": {},
     "output_type": "execute_result"
    },
    {
     "data": {
      "image/png": "[encoded data removed]",
      "text/plain": [
       "<Figure size 432x288 with 1 Axes>"
      ]
     },
     "metadata": {
      "needs_background": "light"
     },
     "output_type": "display_data"
    }
   ],
   "source": [
    "pd.DataFrame(x_train).loc[:,0].hist()"
   ]
  },
  {
   "cell_type": "code",
   "execution_count": 20,
   "metadata": {},
   "outputs": [
    {
     "data": {
      "text/html": [
       "<div>\n",
       "<style scoped>\n",
       "    .dataframe tbody tr th:only-of-type {\n",
       "        vertical-align: middle;\n",
       "    }\n",
       "\n",
       "    .dataframe tbody tr th {\n",
       "        vertical-align: top;\n",
       "    }\n",
       "\n",
       "    .dataframe thead th {\n",
       "        text-align: right;\n",
       "    }\n",
       "</style>\n",
       "<table border=\"1\" class=\"dataframe\">\n",
       "  <thead>\n",
       "    <tr style=\"text-align: right;\">\n",
       "      <th></th>\n",
       "      <th>0</th>\n",
       "      <th>1</th>\n",
       "      <th>2</th>\n",
       "      <th>3</th>\n",
       "      <th>4</th>\n",
       "      <th>5</th>\n",
       "      <th>6</th>\n",
       "      <th>7</th>\n",
       "      <th>8</th>\n",
       "    </tr>\n",
       "  </thead>\n",
       "  <tbody>\n",
       "    <tr>\n",
       "      <td>count</td>\n",
       "      <td>150.000000</td>\n",
       "      <td>150.000000</td>\n",
       "      <td>150.000000</td>\n",
       "      <td>150.000000</td>\n",
       "      <td>150.000000</td>\n",
       "      <td>150.000000</td>\n",
       "      <td>150.000000</td>\n",
       "      <td>150.000000</td>\n",
       "      <td>150.000000</td>\n",
       "    </tr>\n",
       "    <tr>\n",
       "      <td>mean</td>\n",
       "      <td>0.425817</td>\n",
       "      <td>0.437247</td>\n",
       "      <td>0.464608</td>\n",
       "      <td>0.435579</td>\n",
       "      <td>0.560799</td>\n",
       "      <td>0.379146</td>\n",
       "      <td>0.443281</td>\n",
       "      <td>0.489855</td>\n",
       "      <td>0.525926</td>\n",
       "    </tr>\n",
       "    <tr>\n",
       "      <td>std</td>\n",
       "      <td>0.251531</td>\n",
       "      <td>0.268656</td>\n",
       "      <td>0.241586</td>\n",
       "      <td>0.264618</td>\n",
       "      <td>0.217149</td>\n",
       "      <td>0.196413</td>\n",
       "      <td>0.236334</td>\n",
       "      <td>0.291140</td>\n",
       "      <td>0.321996</td>\n",
       "    </tr>\n",
       "    <tr>\n",
       "      <td>min</td>\n",
       "      <td>0.000000</td>\n",
       "      <td>0.000000</td>\n",
       "      <td>0.000000</td>\n",
       "      <td>0.000000</td>\n",
       "      <td>0.000000</td>\n",
       "      <td>0.000000</td>\n",
       "      <td>0.000000</td>\n",
       "      <td>0.000000</td>\n",
       "      <td>0.000000</td>\n",
       "    </tr>\n",
       "    <tr>\n",
       "      <td>25%</td>\n",
       "      <td>0.217262</td>\n",
       "      <td>0.199358</td>\n",
       "      <td>0.263840</td>\n",
       "      <td>0.215393</td>\n",
       "      <td>0.437613</td>\n",
       "      <td>0.233937</td>\n",
       "      <td>0.268696</td>\n",
       "      <td>0.228750</td>\n",
       "      <td>0.222222</td>\n",
       "    </tr>\n",
       "    <tr>\n",
       "      <td>50%</td>\n",
       "      <td>0.379167</td>\n",
       "      <td>0.429030</td>\n",
       "      <td>0.477424</td>\n",
       "      <td>0.410124</td>\n",
       "      <td>0.582577</td>\n",
       "      <td>0.367016</td>\n",
       "      <td>0.359020</td>\n",
       "      <td>0.471031</td>\n",
       "      <td>0.555556</td>\n",
       "    </tr>\n",
       "    <tr>\n",
       "      <td>75%</td>\n",
       "      <td>0.634673</td>\n",
       "      <td>0.657632</td>\n",
       "      <td>0.673345</td>\n",
       "      <td>0.670971</td>\n",
       "      <td>0.710526</td>\n",
       "      <td>0.521408</td>\n",
       "      <td>0.682415</td>\n",
       "      <td>0.760443</td>\n",
       "      <td>0.861111</td>\n",
       "    </tr>\n",
       "    <tr>\n",
       "      <td>max</td>\n",
       "      <td>1.000000</td>\n",
       "      <td>1.000000</td>\n",
       "      <td>1.000000</td>\n",
       "      <td>1.000000</td>\n",
       "      <td>1.000000</td>\n",
       "      <td>1.000000</td>\n",
       "      <td>1.000000</td>\n",
       "      <td>1.000000</td>\n",
       "      <td>1.000000</td>\n",
       "    </tr>\n",
       "  </tbody>\n",
       "</table>\n",
       "</div>"
      ],
      "text/plain": [
       "                0           1           2           3           4           5  \\\n",
       "count  150.000000  150.000000  150.000000  150.000000  150.000000  150.000000   \n",
       "mean     0.425817    0.437247    0.464608    0.435579    0.560799    0.379146   \n",
       "std      0.251531    0.268656    0.241586    0.264618    0.217149    0.196413   \n",
       "min      0.000000    0.000000    0.000000    0.000000    0.000000    0.000000   \n",
       "25%      0.217262    0.199358    0.263840    0.215393    0.437613    0.233937   \n",
       "50%      0.379167    0.429030    0.477424    0.410124    0.582577    0.367016   \n",
       "75%      0.634673    0.657632    0.673345    0.670971    0.710526    0.521408   \n",
       "max      1.000000    1.000000    1.000000    1.000000    1.000000    1.000000   \n",
       "\n",
       "                6           7           8  \n",
       "count  150.000000  150.000000  150.000000  \n",
       "mean     0.443281    0.489855    0.525926  \n",
       "std      0.236334    0.291140    0.321996  \n",
       "min      0.000000    0.000000    0.000000  \n",
       "25%      0.268696    0.228750    0.222222  \n",
       "50%      0.359020    0.471031    0.555556  \n",
       "75%      0.682415    0.760443    0.861111  \n",
       "max      1.000000    1.000000    1.000000  "
      ]
     },
     "execution_count": 20,
     "metadata": {},
     "output_type": "execute_result"
    }
   ],
   "source": [
    "from sklearn.preprocessing import StandardScaler,MinMaxScaler\n",
    "sc = MinMaxScaler()\n",
    "x_train = sc.fit_transform(x_train)\n",
    "x_test = sc.transform(x_test) #For decision tree scaling is not necessary\n",
    "pd.DataFrame(x_train).describe()"
   ]
  },
  {
   "cell_type": "code",
   "execution_count": 21,
   "metadata": {},
   "outputs": [
    {
     "data": {
      "text/plain": [
       "<matplotlib.axes._subplots.AxesSubplot at 0x29a5ec082b0>"
      ]
     },
     "execution_count": 21,
     "metadata": {},
     "output_type": "execute_result"
    },
    {
     "data": {
      "image/png": "[encoded data removed]",
      "text/plain": [
       "<Figure size 432x288 with 1 Axes>"
      ]
     },
     "metadata": {
      "needs_background": "light"
     },
     "output_type": "display_data"
    }
   ],
   "source": [
    "pd.DataFrame(x_train).loc[:,3].hist()"
   ]
  },
  {
   "cell_type": "code",
   "execution_count": 22,
   "metadata": {},
   "outputs": [
    {
     "data": {
      "text/plain": [
       "DecisionTreeClassifier(class_weight=None, criterion='entropy', max_depth=None,\n",
       "                       max_features=None, max_leaf_nodes=None,\n",
       "                       min_impurity_decrease=0.0, min_impurity_split=None,\n",
       "                       min_samples_leaf=1, min_samples_split=2,\n",
       "                       min_weight_fraction_leaf=0.0, presort=False,\n",
       "                       random_state=0, splitter='best')"
      ]
     },
     "execution_count": 22,
     "metadata": {},
     "output_type": "execute_result"
    }
   ],
   "source": [
    "from sklearn.tree import DecisionTreeClassifier\n",
    "classifier = DecisionTreeClassifier(criterion = 'entropy', random_state = 0)\n",
    "classifier.fit(x_train, y_train)"
   ]
  },
  {
   "cell_type": "code",
   "execution_count": 23,
   "metadata": {},
   "outputs": [
    {
     "data": {
      "text/plain": [
       "KNeighborsClassifier(algorithm='auto', leaf_size=30, metric='minkowski',\n",
       "                     metric_params=None, n_jobs=None, n_neighbors=7, p=2,\n",
       "                     weights='distance')"
      ]
     },
     "execution_count": 23,
     "metadata": {},
     "output_type": "execute_result"
    }
   ],
   "source": [
    "from sklearn.neighbors import KNeighborsClassifier\n",
    "classifier_knn = KNeighborsClassifier(n_neighbors = 7,metric = 'minkowski', p = 2,weights='distance')\n",
    "classifier_knn.fit(x_train, y_train)"
   ]
  },
  {
   "cell_type": "code",
   "execution_count": 24,
   "metadata": {},
   "outputs": [
    {
     "data": {
      "text/plain": [
       "RandomForestClassifier(bootstrap=True, class_weight=None, criterion='entropy',\n",
       "                       max_depth=None, max_features='auto', max_leaf_nodes=None,\n",
       "                       min_impurity_decrease=0.0, min_impurity_split=None,\n",
       "                       min_samples_leaf=1, min_samples_split=2,\n",
       "                       min_weight_fraction_leaf=0.0, n_estimators=9,\n",
       "                       n_jobs=None, oob_score=False, random_state=0, verbose=0,\n",
       "                       warm_start=False)"
      ]
     },
     "execution_count": 24,
     "metadata": {},
     "output_type": "execute_result"
    }
   ],
   "source": [
    "from sklearn.ensemble import RandomForestClassifier\n",
    "classifier_rf = RandomForestClassifier(n_estimators = 9, criterion = 'entropy', random_state = 0)\n",
    "classifier_rf.fit(x_train, y_train)"
   ]
  },
  {
   "cell_type": "code",
   "execution_count": 25,
   "metadata": {},
   "outputs": [
    {
     "data": {
      "text/plain": [
       "GaussianNB(priors=None, var_smoothing=1e-09)"
      ]
     },
     "execution_count": 25,
     "metadata": {},
     "output_type": "execute_result"
    }
   ],
   "source": [
    "from sklearn.naive_bayes import GaussianNB\n",
    "classifier_nb = GaussianNB()\n",
    "classifier_nb.fit(x_train, y_train)"
   ]
  },
  {
   "cell_type": "code",
   "execution_count": 26,
   "metadata": {},
   "outputs": [
    {
     "data": {
      "text/plain": [
       "XGBClassifier(base_score=0.5, booster='gbtree', colsample_bylevel=1,\n",
       "              colsample_bynode=1, colsample_bytree=1, gamma=0,\n",
       "              learning_rate=0.01, max_delta_step=0, max_depth=5,\n",
       "              min_child_weight=1, missing=None, n_estimators=75, n_jobs=1,\n",
       "              nthread=None, objective='multi:softprob', random_state=0,\n",
       "              reg_alpha=0, reg_lambda=1, scale_pos_weight=1, seed=None,\n",
       "              silent=None, subsample=0.7, verbosity=1)"
      ]
     },
     "execution_count": 26,
     "metadata": {},
     "output_type": "execute_result"
    }
   ],
   "source": [
    "from xgboost import XGBClassifier\n",
    "classifier_xg = XGBClassifier(max_depth=5,learning_rate=0.01,n_estimators=75,subsample=.7)\n",
    "classifier_xg.fit(x_train, y_train)"
   ]
  },
  {
   "cell_type": "code",
   "execution_count": 27,
   "metadata": {},
   "outputs": [],
   "source": [
    "y_pred = classifier.predict(x_test)\n",
    "y_pred_knn = classifier_knn.predict(x_test)\n",
    "y_pred_rf = classifier_rf.predict(x_test)\n",
    "y_pred_nb = classifier_rf.predict(x_test)\n",
    "y_pred_xg = classifier_xg.predict(x_test)"
   ]
  },
  {
   "cell_type": "code",
   "execution_count": 28,
   "metadata": {},
   "outputs": [],
   "source": [
    "from sklearn.metrics import confusion_matrix\n",
    "cm = confusion_matrix(y_test, y_pred)\n",
    "cm_knn = confusion_matrix(y_test,y_pred_knn)\n",
    "cm_rf = confusion_matrix(y_test,y_pred_rf)\n",
    "cm_nb = confusion_matrix(y_test,y_pred_nb)\n",
    "cm_xg = confusion_matrix(y_test,y_pred_xg)"
   ]
  },
  {
   "cell_type": "code",
   "execution_count": 29,
   "metadata": {},
   "outputs": [
    {
     "data": {
      "text/html": [
       "<div>\n",
       "<style scoped>\n",
       "    .dataframe tbody tr th:only-of-type {\n",
       "        vertical-align: middle;\n",
       "    }\n",
       "\n",
       "    .dataframe tbody tr th {\n",
       "        vertical-align: top;\n",
       "    }\n",
       "\n",
       "    .dataframe thead th {\n",
       "        text-align: right;\n",
       "    }\n",
       "</style>\n",
       "<table border=\"1\" class=\"dataframe\">\n",
       "  <thead>\n",
       "    <tr style=\"text-align: right;\">\n",
       "      <th></th>\n",
       "      <th>c_avellana</th>\n",
       "      <th>c_americana</th>\n",
       "      <th>c_cornuta</th>\n",
       "    </tr>\n",
       "  </thead>\n",
       "  <tbody>\n",
       "    <tr>\n",
       "      <td>c_avellana</td>\n",
       "      <td>14</td>\n",
       "      <td>2</td>\n",
       "      <td>0</td>\n",
       "    </tr>\n",
       "    <tr>\n",
       "      <td>c_americana</td>\n",
       "      <td>0</td>\n",
       "      <td>17</td>\n",
       "      <td>0</td>\n",
       "    </tr>\n",
       "    <tr>\n",
       "      <td>c_cornuta</td>\n",
       "      <td>0</td>\n",
       "      <td>1</td>\n",
       "      <td>17</td>\n",
       "    </tr>\n",
       "  </tbody>\n",
       "</table>\n",
       "</div>"
      ],
      "text/plain": [
       "             c_avellana  c_americana  c_cornuta\n",
       "c_avellana           14            2          0\n",
       "c_americana           0           17          0\n",
       "c_cornuta             0            1         17"
      ]
     },
     "execution_count": 29,
     "metadata": {},
     "output_type": "execute_result"
    }
   ],
   "source": [
    "pd.DataFrame(cm_knn,columns=['c_avellana', 'c_americana', 'c_cornuta'],index = ['c_avellana', 'c_americana', 'c_cornuta'])"
   ]
  },
  {
   "cell_type": "raw",
   "metadata": {},
   "source": [
    "pd.DataFrame(cm_xg,columns=['c_avellana', 'c_americana', 'c_cornuta'],index = ['c_avellana', 'c_americana', 'c_cornuta'])"
   ]
  },
  {
   "cell_type": "code",
   "execution_count": 30,
   "metadata": {},
   "outputs": [
    {
     "data": {
      "text/plain": [
       "True"
      ]
     },
     "execution_count": 30,
     "metadata": {},
     "output_type": "execute_result"
    }
   ],
   "source": [
    "# Visualize data\n",
    "import pydotplus\n",
    "from sklearn import tree\n",
    "import collections\n",
    "import os\n",
    "\n",
    "os.environ['PATH'] = os.environ['PATH']+';'+os.environ['CONDA_PREFIX']+r\"\\Library\\bin\\graphviz\"\n",
    "\n",
    "dot_data = tree.export_graphviz(classifier,\n",
    "                                feature_names=['length', 'width', 'thickness', 'mass', 'compactness', 'hardness', 'shell_radius', 'water_content', 'carbohydrate'],\n",
    "                                out_file=None,\n",
    "                                filled=True,\n",
    "                                rounded=True)\n",
    "graph = pydotplus.graph_from_dot_data(dot_data)\n",
    "\n",
    "colors = ('turquoise', 'orange')\n",
    "edges = collections.defaultdict(list)\n",
    "\n",
    "for edge in graph.get_edge_list():\n",
    "    edges[edge.get_source()].append(int(edge.get_destination()))\n",
    "\n",
    "for edge in edges:\n",
    "    edges[edge].sort()    \n",
    "    for i in range(2):\n",
    "        dest = graph.get_node(str(edges[edge][i]))[0]\n",
    "        dest.set_fillcolor(colors[i])\n",
    "\n",
    "graph.write_png('tree.png')"
   ]
  },
  {
   "cell_type": "code",
   "execution_count": 31,
   "metadata": {},
   "outputs": [
    {
     "data": {
      "text/plain": [
       "array([[11,  5,  0],\n",
       "       [ 0, 17,  0],\n",
       "       [ 0,  0, 18]], dtype=int64)"
      ]
     },
     "execution_count": 31,
     "metadata": {},
     "output_type": "execute_result"
    }
   ],
   "source": [
    "cm_rf"
   ]
  },
  {
   "cell_type": "code",
   "execution_count": 32,
   "metadata": {},
   "outputs": [
    {
     "data": {
      "text/plain": [
       "array([[11,  5,  0],\n",
       "       [ 0, 17,  0],\n",
       "       [ 0,  0, 18]], dtype=int64)"
      ]
     },
     "execution_count": 32,
     "metadata": {},
     "output_type": "execute_result"
    }
   ],
   "source": [
    "cm_nb"
   ]
  },
  {
   "cell_type": "code",
   "execution_count": 33,
   "metadata": {},
   "outputs": [
    {
     "data": {
      "text/plain": [
       "array([0, 2, 1, 1, 2, 2, 0, 2, 0, 0, 0, 1, 2, 2, 0, 0, 1, 1, 0, 0, 2, 0,\n",
       "       1, 1, 1, 2, 1, 2, 1, 2, 0, 2, 0, 0, 1, 2, 1, 1, 1, 1, 2, 1, 2, 2,\n",
       "       0, 0, 1, 1, 1, 2, 1], dtype=int64)"
      ]
     },
     "execution_count": 33,
     "metadata": {},
     "output_type": "execute_result"
    }
   ],
   "source": [
    "y_pred"
   ]
  },
  {
   "cell_type": "code",
   "execution_count": 34,
   "metadata": {},
   "outputs": [
    {
     "data": {
      "text/plain": [
       "array([[11,  5,  0],\n",
       "       [ 0, 17,  0],\n",
       "       [ 0,  0, 18]], dtype=int64)"
      ]
     },
     "execution_count": 34,
     "metadata": {},
     "output_type": "execute_result"
    }
   ],
   "source": [
    "cm_xg"
   ]
  },
  {
   "cell_type": "code",
   "execution_count": 35,
   "metadata": {},
   "outputs": [
    {
     "name": "stdout",
     "output_type": "stream",
     "text": [
      "              precision    recall  f1-score   support\n",
      "\n",
      "  c_avellana       1.00      0.88      0.93        16\n",
      " c_americana       0.85      1.00      0.92        17\n",
      "   c_cornuta       1.00      0.94      0.97        18\n",
      "\n",
      "    accuracy                           0.94        51\n",
      "   macro avg       0.95      0.94      0.94        51\n",
      "weighted avg       0.95      0.94      0.94        51\n",
      "\n"
     ]
    }
   ],
   "source": [
    " from sklearn.metrics import classification_report\n",
    "print(classification_report(y_test, y_pred_knn, target_names=['c_avellana', 'c_americana', 'c_cornuta']))"
   ]
  },
  {
   "cell_type": "code",
   "execution_count": 36,
   "metadata": {},
   "outputs": [
    {
     "data": {
      "text/plain": [
       "0.803921568627451"
      ]
     },
     "execution_count": 36,
     "metadata": {},
     "output_type": "execute_result"
    }
   ],
   "source": [
    "from sklearn import metrics\n",
    "metrics.accuracy_score(y_test, y_pred)"
   ]
  },
  {
   "cell_type": "code",
   "execution_count": 37,
   "metadata": {},
   "outputs": [
    {
     "data": {
      "text/plain": [
       "0.9411764705882353"
      ]
     },
     "execution_count": 37,
     "metadata": {},
     "output_type": "execute_result"
    }
   ],
   "source": [
    "metrics.accuracy_score(y_test, y_pred_knn)"
   ]
  },
  {
   "cell_type": "code",
   "execution_count": 38,
   "metadata": {},
   "outputs": [
    {
     "data": {
      "text/plain": [
       "0.9019607843137255"
      ]
     },
     "execution_count": 38,
     "metadata": {},
     "output_type": "execute_result"
    }
   ],
   "source": [
    "metrics.accuracy_score(y_test, y_pred_rf)"
   ]
  },
  {
   "cell_type": "code",
   "execution_count": 39,
   "metadata": {},
   "outputs": [
    {
     "data": {
      "text/plain": [
       "0.9019607843137255"
      ]
     },
     "execution_count": 39,
     "metadata": {},
     "output_type": "execute_result"
    }
   ],
   "source": [
    "metrics.accuracy_score(y_test, y_pred_nb)"
   ]
  },
  {
   "cell_type": "code",
   "execution_count": 40,
   "metadata": {},
   "outputs": [
    {
     "data": {
      "text/plain": [
       "0.9019607843137255"
      ]
     },
     "execution_count": 40,
     "metadata": {},
     "output_type": "execute_result"
    }
   ],
   "source": [
    "metrics.accuracy_score(y_test, y_pred_xg)"
   ]
  },
  {
   "cell_type": "markdown",
   "metadata": {},
   "source": [
    "Accuracy increased by 2% after removing 'surface_area' column from training set bcz of its corr with mass."
   ]
  },
  {
   "cell_type": "code",
   "execution_count": 41,
   "metadata": {},
   "outputs": [
    {
     "data": {
      "text/plain": [
       "0.8809649122807018"
      ]
     },
     "execution_count": 41,
     "metadata": {},
     "output_type": "execute_result"
    }
   ],
   "source": [
    "from sklearn.model_selection import cross_val_score,cross_val_predict\n",
    "accuracies_xg = cross_val_score(estimator = classifier, X = x, y = y, cv = 10)\n",
    "accuracies_xg.mean()"
   ]
  },
  {
   "cell_type": "code",
   "execution_count": 42,
   "metadata": {},
   "outputs": [
    {
     "data": {
      "text/plain": [
       "0.859674185463659"
      ]
     },
     "execution_count": 42,
     "metadata": {},
     "output_type": "execute_result"
    }
   ],
   "source": [
    "accuracies_knn = cross_val_score(estimator = classifier_knn, X = x, y = y, cv = 10)\n",
    "accuracies_knn.mean()"
   ]
  },
  {
   "cell_type": "markdown",
   "metadata": {},
   "source": [
    "K - fold cross validation gives mean accuracy"
   ]
  },
  {
   "cell_type": "code",
   "execution_count": 44,
   "metadata": {},
   "outputs": [
    {
     "data": {
      "text/plain": [
       "array([[0.66666667, 0.22222222, 0.11111111],\n",
       "       [0.11111111, 0.        , 0.88888889],\n",
       "       [0.        , 0.77777778, 0.22222222],\n",
       "       [0.22222222, 0.66666667, 0.11111111],\n",
       "       [0.11111111, 0.11111111, 0.77777778],\n",
       "       [0.        , 0.11111111, 0.88888889],\n",
       "       [0.11111111, 0.11111111, 0.77777778],\n",
       "       [0.        , 0.        , 1.        ],\n",
       "       [1.        , 0.        , 0.        ],\n",
       "       [0.88888889, 0.11111111, 0.        ],\n",
       "       [1.        , 0.        , 0.        ],\n",
       "       [0.44444444, 0.55555556, 0.        ],\n",
       "       [0.11111111, 0.        , 0.88888889],\n",
       "       [0.        , 0.        , 1.        ],\n",
       "       [0.11111111, 0.66666667, 0.22222222],\n",
       "       [0.44444444, 0.55555556, 0.        ],\n",
       "       [0.        , 1.        , 0.        ],\n",
       "       [0.        , 0.22222222, 0.77777778],\n",
       "       [1.        , 0.        , 0.        ],\n",
       "       [0.88888889, 0.        , 0.11111111],\n",
       "       [0.        , 0.        , 1.        ],\n",
       "       [0.33333333, 0.66666667, 0.        ],\n",
       "       [0.        , 0.88888889, 0.11111111],\n",
       "       [0.        , 0.88888889, 0.11111111],\n",
       "       [0.        , 0.88888889, 0.11111111],\n",
       "       [0.33333333, 0.        , 0.66666667],\n",
       "       [0.        , 1.        , 0.        ],\n",
       "       [0.        , 0.22222222, 0.77777778],\n",
       "       [0.        , 0.11111111, 0.88888889],\n",
       "       [0.        , 0.11111111, 0.88888889],\n",
       "       [0.33333333, 0.66666667, 0.        ],\n",
       "       [0.        , 0.77777778, 0.22222222],\n",
       "       [0.66666667, 0.33333333, 0.        ],\n",
       "       [0.88888889, 0.11111111, 0.        ],\n",
       "       [0.        , 0.88888889, 0.11111111],\n",
       "       [0.        , 0.11111111, 0.88888889],\n",
       "       [0.        , 1.        , 0.        ],\n",
       "       [0.        , 0.88888889, 0.11111111],\n",
       "       [0.44444444, 0.55555556, 0.        ],\n",
       "       [0.        , 1.        , 0.        ],\n",
       "       [0.        , 0.11111111, 0.88888889],\n",
       "       [0.44444444, 0.55555556, 0.        ],\n",
       "       [0.        , 0.        , 1.        ],\n",
       "       [0.        , 0.        , 1.        ],\n",
       "       [1.        , 0.        , 0.        ],\n",
       "       [0.77777778, 0.22222222, 0.        ],\n",
       "       [0.        , 1.        , 0.        ],\n",
       "       [0.        , 0.88888889, 0.11111111],\n",
       "       [0.55555556, 0.44444444, 0.        ],\n",
       "       [0.        , 0.11111111, 0.88888889],\n",
       "       [0.        , 1.        , 0.        ]])"
      ]
     },
     "execution_count": 44,
     "metadata": {},
     "output_type": "execute_result"
    }
   ],
   "source": [
    "predicted = classifier_rf.predict_proba(x_test)\n",
    "predicted"
   ]
  },
  {
   "cell_type": "code",
   "execution_count": 45,
   "metadata": {},
   "outputs": [
    {
     "data": {
      "text/html": [
       "<div>\n",
       "<style scoped>\n",
       "    .dataframe tbody tr th:only-of-type {\n",
       "        vertical-align: middle;\n",
       "    }\n",
       "\n",
       "    .dataframe tbody tr th {\n",
       "        vertical-align: top;\n",
       "    }\n",
       "\n",
       "    .dataframe thead th {\n",
       "        text-align: right;\n",
       "    }\n",
       "</style>\n",
       "<table border=\"1\" class=\"dataframe\">\n",
       "  <thead>\n",
       "    <tr style=\"text-align: right;\">\n",
       "      <th></th>\n",
       "      <th>model</th>\n",
       "      <th>k-fold</th>\n",
       "      <th>error</th>\n",
       "    </tr>\n",
       "  </thead>\n",
       "  <tbody>\n",
       "    <tr>\n",
       "      <td>0</td>\n",
       "      <td>knn</td>\n",
       "      <td>1</td>\n",
       "      <td>0.095238</td>\n",
       "    </tr>\n",
       "    <tr>\n",
       "      <td>1</td>\n",
       "      <td>knn</td>\n",
       "      <td>2</td>\n",
       "      <td>0.142857</td>\n",
       "    </tr>\n",
       "    <tr>\n",
       "      <td>2</td>\n",
       "      <td>knn</td>\n",
       "      <td>3</td>\n",
       "      <td>0.142857</td>\n",
       "    </tr>\n",
       "    <tr>\n",
       "      <td>3</td>\n",
       "      <td>knn</td>\n",
       "      <td>4</td>\n",
       "      <td>0.142857</td>\n",
       "    </tr>\n",
       "    <tr>\n",
       "      <td>4</td>\n",
       "      <td>knn</td>\n",
       "      <td>5</td>\n",
       "      <td>0.095238</td>\n",
       "    </tr>\n",
       "    <tr>\n",
       "      <td>5</td>\n",
       "      <td>knn</td>\n",
       "      <td>6</td>\n",
       "      <td>0.100000</td>\n",
       "    </tr>\n",
       "    <tr>\n",
       "      <td>6</td>\n",
       "      <td>knn</td>\n",
       "      <td>7</td>\n",
       "      <td>0.210526</td>\n",
       "    </tr>\n",
       "    <tr>\n",
       "      <td>7</td>\n",
       "      <td>knn</td>\n",
       "      <td>8</td>\n",
       "      <td>0.105263</td>\n",
       "    </tr>\n",
       "    <tr>\n",
       "      <td>8</td>\n",
       "      <td>knn</td>\n",
       "      <td>9</td>\n",
       "      <td>0.105263</td>\n",
       "    </tr>\n",
       "    <tr>\n",
       "      <td>9</td>\n",
       "      <td>knn</td>\n",
       "      <td>10</td>\n",
       "      <td>0.263158</td>\n",
       "    </tr>\n",
       "    <tr>\n",
       "      <td>10</td>\n",
       "      <td>xgboost</td>\n",
       "      <td>1</td>\n",
       "      <td>0.095238</td>\n",
       "    </tr>\n",
       "    <tr>\n",
       "      <td>11</td>\n",
       "      <td>xgboost</td>\n",
       "      <td>2</td>\n",
       "      <td>0.095238</td>\n",
       "    </tr>\n",
       "    <tr>\n",
       "      <td>12</td>\n",
       "      <td>xgboost</td>\n",
       "      <td>3</td>\n",
       "      <td>0.190476</td>\n",
       "    </tr>\n",
       "    <tr>\n",
       "      <td>13</td>\n",
       "      <td>xgboost</td>\n",
       "      <td>4</td>\n",
       "      <td>0.095238</td>\n",
       "    </tr>\n",
       "    <tr>\n",
       "      <td>14</td>\n",
       "      <td>xgboost</td>\n",
       "      <td>5</td>\n",
       "      <td>0.190476</td>\n",
       "    </tr>\n",
       "    <tr>\n",
       "      <td>15</td>\n",
       "      <td>xgboost</td>\n",
       "      <td>6</td>\n",
       "      <td>0.050000</td>\n",
       "    </tr>\n",
       "    <tr>\n",
       "      <td>16</td>\n",
       "      <td>xgboost</td>\n",
       "      <td>7</td>\n",
       "      <td>0.105263</td>\n",
       "    </tr>\n",
       "    <tr>\n",
       "      <td>17</td>\n",
       "      <td>xgboost</td>\n",
       "      <td>8</td>\n",
       "      <td>0.000000</td>\n",
       "    </tr>\n",
       "    <tr>\n",
       "      <td>18</td>\n",
       "      <td>xgboost</td>\n",
       "      <td>9</td>\n",
       "      <td>0.105263</td>\n",
       "    </tr>\n",
       "    <tr>\n",
       "      <td>19</td>\n",
       "      <td>xgboost</td>\n",
       "      <td>10</td>\n",
       "      <td>0.263158</td>\n",
       "    </tr>\n",
       "  </tbody>\n",
       "</table>\n",
       "</div>"
      ],
      "text/plain": [
       "      model k-fold     error\n",
       "0       knn      1  0.095238\n",
       "1       knn      2  0.142857\n",
       "2       knn      3  0.142857\n",
       "3       knn      4  0.142857\n",
       "4       knn      5  0.095238\n",
       "5       knn      6  0.100000\n",
       "6       knn      7  0.210526\n",
       "7       knn      8  0.105263\n",
       "8       knn      9  0.105263\n",
       "9       knn     10  0.263158\n",
       "10  xgboost      1  0.095238\n",
       "11  xgboost      2  0.095238\n",
       "12  xgboost      3  0.190476\n",
       "13  xgboost      4  0.095238\n",
       "14  xgboost      5  0.190476\n",
       "15  xgboost      6  0.050000\n",
       "16  xgboost      7  0.105263\n",
       "17  xgboost      8  0.000000\n",
       "18  xgboost      9  0.105263\n",
       "19  xgboost     10  0.263158"
      ]
     },
     "execution_count": 45,
     "metadata": {},
     "output_type": "execute_result"
    }
   ],
   "source": [
    "acc_df = pd.DataFrame(columns=['model','k-fold','error'])\n",
    "for k,i in enumerate(accuracies_knn):\n",
    "    acc_df = acc_df.append({'model':'knn','k-fold':k+1,'error':1-i},ignore_index = True)\n",
    "for k,i in enumerate(accuracies_xg):\n",
    "    acc_df = acc_df.append({'model':'xgboost','k-fold':k+1,'error':1-i},ignore_index = True)\n",
    "\n",
    "acc_df"
   ]
  },
  {
   "cell_type": "code",
   "execution_count": 46,
   "metadata": {},
   "outputs": [
    {
     "data": {
      "text/plain": [
       "(0.0, 0.27)"
      ]
     },
     "execution_count": 46,
     "metadata": {},
     "output_type": "execute_result"
    },
    {
     "data": {
      "image/png": "[encoded data removed]",
      "text/plain": [
       "<Figure size 842.4x595.44 with 1 Axes>"
      ]
     },
     "metadata": {},
     "output_type": "display_data"
    }
   ],
   "source": [
    "\n",
    "import seaborn as sns\n",
    "sns.set(rc={'figure.figsize':(11.7,8.27)}) #plotsize\n",
    "plot  = sns.lineplot(x='k-fold',y='error',hue='model',markers=True, dashes=False,data = acc_df,)\n",
    "plot.set_xlim([1,10])\n",
    "plot.set_ylim([0.00,0.270])"
   ]
  },
  {
   "cell_type": "code",
   "execution_count": 47,
   "metadata": {},
   "outputs": [
    {
     "data": {
      "text/plain": [
       "array([0.9047619 , 0.85714286, 0.85714286, 0.85714286, 0.9047619 ,\n",
       "       0.9       , 0.78947368, 0.89473684, 0.89473684, 0.73684211])"
      ]
     },
     "execution_count": 47,
     "metadata": {},
     "output_type": "execute_result"
    }
   ],
   "source": [
    "accuracies_knn"
   ]
  },
  {
   "cell_type": "code",
   "execution_count": 48,
   "metadata": {},
   "outputs": [
    {
     "data": {
      "text/plain": [
       "array([0.9047619 , 0.9047619 , 0.80952381, 0.9047619 , 0.80952381,\n",
       "       0.95      , 0.89473684, 1.        , 0.89473684, 0.73684211])"
      ]
     },
     "execution_count": 48,
     "metadata": {},
     "output_type": "execute_result"
    }
   ],
   "source": [
    "accuracies_xg"
   ]
  },
  {
   "cell_type": "code",
   "execution_count": 49,
   "metadata": {},
   "outputs": [],
   "source": [
    "from matplotlib.colors import ListedColormap\n",
    "import matplotlib.pyplot as plt\n",
    "\n",
    "def plot_decision_regions(X, y, classifier,model_name, test_idx=None, resolution=0.02):\n",
    "    sns.set()\n",
    "    # setup marker generator and color map\n",
    "    markers = ('s', 'x', 'o', '^', 'v')\n",
    "    colors = ('red', 'blue', 'darkgreen', 'gray', 'cyan')\n",
    "    cmap = ListedColormap(colors[:len(np.unique(y))])\n",
    "\n",
    "    # plot the decision surface\n",
    "    x1_min, x1_max = X[:, 0].min() - 1, X[:, 0].max() + 1\n",
    "    x2_min, x2_max = X[:, 1].min() - 1, X[:, 1].max() + 1\n",
    "    xx1, xx2 = np.meshgrid(np.arange(x1_min, x1_max, resolution),\n",
    "                           np.arange(x2_min, x2_max, resolution))\n",
    "    Z = classifier.predict(np.array([xx1.ravel(), xx2.ravel()]).T)\n",
    "    Z = Z.reshape(xx1.shape) \n",
    "    plt.contourf(xx1, xx2, Z, alpha=0.4 ,cmap=cmap)\n",
    "    plt.xlim(xx1.min()+0.5, xx1.max()-0.5)\n",
    "    plt.ylim(xx2.min()+0.5, xx2.max()-0.5)\n",
    "    plt.xlabel('Width')\n",
    "    plt.ylabel('Thickness')\n",
    "    plt.title(model_name)\n",
    "\n",
    "    scatter_plots = []\n",
    "    for idx, cl in enumerate(np.unique(y)):\n",
    "        scatter_plots.append(plt.scatter(x=X[y == cl, 0], y=X[y == cl, 1],\n",
    "                    alpha=0.8, c=cmap(idx),\n",
    "                    marker=markers[idx], label=cl))\n",
    "    legends = set(y)\n",
    "    plt.legend(tuple(scatter_plots),(list(class_dict.keys())[i] for i in legends))"
   ]
  },
  {
   "cell_type": "code",
   "execution_count": 50,
   "metadata": {},
   "outputs": [
    {
     "data": {
      "text/plain": [
       "KNeighborsClassifier(algorithm='auto', leaf_size=30, metric='minkowski',\n",
       "                     metric_params=None, n_jobs=None, n_neighbors=10, p=2,\n",
       "                     weights='distance')"
      ]
     },
     "execution_count": 50,
     "metadata": {},
     "output_type": "execute_result"
    }
   ],
   "source": [
    "from sklearn.neighbors import KNeighborsClassifier\n",
    "classifier_knn_visualise = KNeighborsClassifier(n_neighbors = 10,metric = 'minkowski', p = 2,weights='distance')\n",
    "classifier_knn_visualise.fit(x_train[:,[1,2]], y_train)"
   ]
  },
  {
   "cell_type": "code",
   "execution_count": 51,
   "metadata": {},
   "outputs": [
    {
     "data": {
      "text/plain": [
       "XGBClassifier(base_score=0.5, booster='gbtree', colsample_bylevel=1,\n",
       "              colsample_bynode=1, colsample_bytree=1, gamma=0,\n",
       "              learning_rate=0.01, max_delta_step=0, max_depth=3,\n",
       "              min_child_weight=1, missing=None, n_estimators=10, n_jobs=1,\n",
       "              nthread=None, objective='multi:softprob', random_state=0,\n",
       "              reg_alpha=0, reg_lambda=1, scale_pos_weight=1, seed=None,\n",
       "              silent=None, subsample=0.7, verbosity=1)"
      ]
     },
     "execution_count": 51,
     "metadata": {},
     "output_type": "execute_result"
    }
   ],
   "source": [
    "from xgboost import XGBClassifier\n",
    "classifier_xg_visualise = XGBClassifier(max_depth=3,learning_rate=0.01,n_estimators=10,subsample=.7)\n",
    "classifier_xg_visualise.fit(x_train[:,[1,2]], y_train)"
   ]
  },
  {
   "cell_type": "code",
   "execution_count": 52,
   "metadata": {},
   "outputs": [
    {
     "name": "stderr",
     "output_type": "stream",
     "text": [
      "'c' argument looks like a single numeric RGB or RGBA sequence, which should be avoided as value-mapping will have precedence in case its length matches with 'x' & 'y'.  Please use a 2-D array with a single row if you really want to specify the same RGB or RGBA value for all points.\n",
      "'c' argument looks like a single numeric RGB or RGBA sequence, which should be avoided as value-mapping will have precedence in case its length matches with 'x' & 'y'.  Please use a 2-D array with a single row if you really want to specify the same RGB or RGBA value for all points.\n",
      "'c' argument looks like a single numeric RGB or RGBA sequence, which should be avoided as value-mapping will have precedence in case its length matches with 'x' & 'y'.  Please use a 2-D array with a single row if you really want to specify the same RGB or RGBA value for all points.\n"
     ]
    },
    {
     "data": {
      "image/png": "[encoded data removed]",
      "text/plain": [
       "<Figure size 842.4x595.44 with 1 Axes>"
      ]
     },
     "metadata": {},
     "output_type": "display_data"
    }
   ],
   "source": [
    "plot_decision_regions(x_train[:,[1,2]],y_train,classifier_knn_visualise,'KNN')"
   ]
  },
  {
   "cell_type": "code",
   "execution_count": 53,
   "metadata": {},
   "outputs": [
    {
     "name": "stderr",
     "output_type": "stream",
     "text": [
      "'c' argument looks like a single numeric RGB or RGBA sequence, which should be avoided as value-mapping will have precedence in case its length matches with 'x' & 'y'.  Please use a 2-D array with a single row if you really want to specify the same RGB or RGBA value for all points.\n",
      "'c' argument looks like a single numeric RGB or RGBA sequence, which should be avoided as value-mapping will have precedence in case its length matches with 'x' & 'y'.  Please use a 2-D array with a single row if you really want to specify the same RGB or RGBA value for all points.\n",
      "'c' argument looks like a single numeric RGB or RGBA sequence, which should be avoided as value-mapping will have precedence in case its length matches with 'x' & 'y'.  Please use a 2-D array with a single row if you really want to specify the same RGB or RGBA value for all points.\n"
     ]
    },
    {
     "data": {
      "image/png": "[encoded data removed]",
      "text/plain": [
       "<Figure size 842.4x595.44 with 1 Axes>"
      ]
     },
     "metadata": {},
     "output_type": "display_data"
    }
   ],
   "source": [
    "plot_decision_regions(x_train[:,[1,2]],y_train,classifier_xg_visualise,'XGBOOST')"
   ]
  },
  {
   "cell_type": "code",
   "execution_count": 54,
   "metadata": {},
   "outputs": [],
   "source": [
    "import math\n",
    "def distance_calculation(ip_arr,train_data,train_label):\n",
    "    if len(ip_arr.tolist()[1]) == len(train_data.tolist()[1]):\n",
    "        train_label = train_label.tolist()\n",
    "        op_dict = {}\n",
    "        test_indexes,train_indexes,distance,label = [],[],[],[]\n",
    "        for test_id,test_data_point in enumerate(ip_arr):\n",
    "            for train_id,train_data_point in enumerate(train_data):\n",
    "                euc = math.sqrt(np.sum((test_data_point - train_data_point)**2))\n",
    "                test_indexes.append(test_id)\n",
    "                train_indexes.append(train_id)\n",
    "                distance.append(euc)\n",
    "                label.append(train_label[train_id])\n",
    "        op_dict['Test_ID'],op_dict['Train_ID'],op_dict['Distance'],op_dict['label']   = test_indexes,train_indexes,distance,label\n",
    "        return pd.DataFrame(op_dict)\n",
    "        \n",
    "        \n",
    "def k_neighbours(k,df):\n",
    "    op = []\n",
    "    for i in df['Test_ID'].sort_values().unique():\n",
    "        mode = df[df['Test_ID'] == i].sort_values('Distance').head(k)['label'].mode().tolist()\n",
    "        if len(mode) == 1:\n",
    "            op.append(mode[0])\n",
    "        else:\n",
    "            op.append(mode[1])\n",
    "    return np.array(op)\n",
    "               \n",
    "        "
   ]
  },
  {
   "cell_type": "code",
   "execution_count": 55,
   "metadata": {},
   "outputs": [
    {
     "data": {
      "text/plain": [
       "0"
      ]
     },
     "execution_count": 55,
     "metadata": {},
     "output_type": "execute_result"
    }
   ],
   "source": [
    "df_knn = distance_calculation(x_test,x_train,y_train)\n",
    "df_knn\n",
    "int(df_knn[df_knn['Test_ID'] == 0].sort_values('Distance').head(7)['label'].mode().astype(int))"
   ]
  },
  {
   "cell_type": "code",
   "execution_count": 56,
   "metadata": {},
   "outputs": [
    {
     "data": {
      "text/plain": [
       "array([2, 1, 1, 2, 0, 1, 0, 2, 1, 0, 1, 2, 2, 2, 1, 1, 1, 0, 2, 0, 0, 2,\n",
       "       0, 2, 2, 1, 2, 1, 1, 1, 0, 0, 2, 2, 1, 1, 0, 0, 1, 2, 2, 1, 2, 2,\n",
       "       1, 1, 1, 1, 0, 0, 1, 1, 0, 1, 2, 0, 2, 2, 0, 2, 1, 1, 1, 1, 0, 1,\n",
       "       1, 0, 0, 1, 0, 1, 2, 2, 2, 0, 1, 1, 2, 0, 2, 2, 0, 2, 0, 2, 2, 2,\n",
       "       0, 1, 1, 1, 2, 2, 0, 0, 0, 2, 0, 2, 2, 2, 0, 1, 0, 0, 2, 1, 2, 1,\n",
       "       2, 0, 2, 1, 1, 1, 0, 0, 0, 0, 0, 1, 1, 0, 2, 2, 2, 0, 0, 2, 1, 0,\n",
       "       2, 1, 0, 0, 0, 2, 1, 1, 1, 0, 2, 1, 0, 0, 1, 0, 1, 1], dtype=int64)"
      ]
     },
     "execution_count": 56,
     "metadata": {},
     "output_type": "execute_result"
    }
   ],
   "source": [
    "y_train"
   ]
  },
  {
   "cell_type": "code",
   "execution_count": 57,
   "metadata": {},
   "outputs": [
    {
     "data": {
      "text/plain": [
       "array([0, 2, 1, 1, 2, 2, 2, 2, 0, 0, 0, 1, 2, 2, 1, 0, 1, 2, 0, 0, 2, 0,\n",
       "       1, 1, 1, 2, 1, 1, 2, 2, 1, 1, 0, 0, 1, 2, 1, 1, 0, 1, 2, 1, 2, 2,\n",
       "       0, 0, 1, 1, 0, 2, 1])"
      ]
     },
     "execution_count": 57,
     "metadata": {},
     "output_type": "execute_result"
    }
   ],
   "source": [
    "op = k_neighbours(7,df_knn)\n",
    "op"
   ]
  },
  {
   "cell_type": "code",
   "execution_count": 58,
   "metadata": {},
   "outputs": [
    {
     "data": {
      "text/plain": [
       "array([0, 2, 1, 0, 2, 2, 2, 2, 0, 0, 0, 1, 2, 2, 1, 0, 1, 2, 0, 0, 2, 0,\n",
       "       1, 1, 1, 2, 1, 2, 2, 2, 1, 1, 0, 0, 1, 2, 1, 1, 0, 1, 2, 0, 2, 2,\n",
       "       0, 0, 1, 1, 0, 2, 1], dtype=int64)"
      ]
     },
     "execution_count": 58,
     "metadata": {},
     "output_type": "execute_result"
    }
   ],
   "source": [
    "y_test"
   ]
  },
  {
   "cell_type": "code",
   "execution_count": 59,
   "metadata": {},
   "outputs": [
    {
     "data": {
      "text/plain": [
       "array([[14,  2,  0],\n",
       "       [ 0, 17,  0],\n",
       "       [ 0,  1, 17]], dtype=int64)"
      ]
     },
     "execution_count": 59,
     "metadata": {},
     "output_type": "execute_result"
    }
   ],
   "source": [
    "confusion_matrix(y_test,op)"
   ]
  },
  {
   "cell_type": "code",
   "execution_count": 60,
   "metadata": {},
   "outputs": [
    {
     "data": {
      "text/plain": [
       "0.9411764705882353"
      ]
     },
     "execution_count": 60,
     "metadata": {},
     "output_type": "execute_result"
    }
   ],
   "source": [
    "np.sum(confusion_matrix(y_test,op).diagonal()) / np.sum(confusion_matrix(y_test,op))"
   ]
  },
  {
   "cell_type": "code",
   "execution_count": 61,
   "metadata": {},
   "outputs": [
    {
     "name": "stdout",
     "output_type": "stream",
     "text": [
      "0.8952380952380953\n"
     ]
    }
   ],
   "source": [
    "from sklearn.preprocessing import StandardScaler,MinMaxScaler\n",
    "from sklearn.model_selection import KFold\n",
    "from statistics import mean\n",
    "\n",
    "cv = KFold(n_splits=10,shuffle=True)\n",
    "\n",
    "acc = []\n",
    "\n",
    "for train_index, test_index in cv.split(x):\n",
    "    train_x,train_y = [x[i,].tolist() for i in train_index],[y[i,].tolist() for i in train_index]\n",
    "    test_x,test_y = [x[i,].tolist()  for i in test_index],[y[i,].tolist()  for i in test_index]\n",
    "    sc = MinMaxScaler()\n",
    "    train_x = sc.fit_transform(np.array(train_x))\n",
    "    test_x = sc.transform(np.array(test_x))\n",
    "    \n",
    "    df = distance_calculation(np.array(test_x),np.array(train_x),np.array(train_y))\n",
    "    \n",
    "    op = k_neighbours(7,df)\n",
    "    \n",
    "    accuracy = np.sum(confusion_matrix(test_y,op).diagonal()) / np.sum(confusion_matrix(test_y,op))\n",
    "    acc.append(accuracy)\n",
    "    \n",
    "print(mean(acc))\n",
    "    \n",
    "    \n",
    "    "
   ]
  },
  {
   "cell_type": "code",
   "execution_count": 62,
   "metadata": {},
   "outputs": [],
   "source": [
    "\n",
    "df = pd.read_csv('hazzlenuts.txt',header = None,sep = '\t').transpose()\n",
    "\n",
    "df.columns = ['sample_id', 'length', 'width', 'thickness', 'surface_area', 'mass', 'compactness', 'hardness', 'shell_radius', 'water_content', 'carbohydrate', 'variety']"
   ]
  },
  {
   "cell_type": "code",
   "execution_count": 63,
   "metadata": {},
   "outputs": [
    {
     "data": {
      "text/html": [
       "<div>\n",
       "<style scoped>\n",
       "    .dataframe tbody tr th:only-of-type {\n",
       "        vertical-align: middle;\n",
       "    }\n",
       "\n",
       "    .dataframe tbody tr th {\n",
       "        vertical-align: top;\n",
       "    }\n",
       "\n",
       "    .dataframe thead th {\n",
       "        text-align: right;\n",
       "    }\n",
       "</style>\n",
       "<table border=\"1\" class=\"dataframe\">\n",
       "  <thead>\n",
       "    <tr style=\"text-align: right;\">\n",
       "      <th></th>\n",
       "      <th>sample_id</th>\n",
       "      <th>length</th>\n",
       "      <th>width</th>\n",
       "      <th>thickness</th>\n",
       "      <th>surface_area</th>\n",
       "      <th>mass</th>\n",
       "      <th>compactness</th>\n",
       "      <th>hardness</th>\n",
       "      <th>shell_radius</th>\n",
       "      <th>water_content</th>\n",
       "      <th>carbohydrate</th>\n",
       "      <th>variety</th>\n",
       "    </tr>\n",
       "  </thead>\n",
       "  <tbody>\n",
       "    <tr>\n",
       "      <td>0</td>\n",
       "      <td>71</td>\n",
       "      <td>11.67</td>\n",
       "      <td>12.8025</td>\n",
       "      <td>8.055075</td>\n",
       "      <td>34.65</td>\n",
       "      <td>1375.50</td>\n",
       "      <td>0.93005</td>\n",
       "      <td>19.145</td>\n",
       "      <td>4.4604</td>\n",
       "      <td>0.048668</td>\n",
       "      <td>0.175</td>\n",
       "      <td>c_avellana</td>\n",
       "    </tr>\n",
       "    <tr>\n",
       "      <td>1</td>\n",
       "      <td>72</td>\n",
       "      <td>13.86</td>\n",
       "      <td>13.0995</td>\n",
       "      <td>7.349907</td>\n",
       "      <td>38.10</td>\n",
       "      <td>1439.55</td>\n",
       "      <td>0.93401</td>\n",
       "      <td>8.780</td>\n",
       "      <td>4.7844</td>\n",
       "      <td>0.048826</td>\n",
       "      <td>0.167</td>\n",
       "      <td>c_avellana</td>\n",
       "    </tr>\n",
       "    <tr>\n",
       "      <td>2</td>\n",
       "      <td>1</td>\n",
       "      <td>20.53</td>\n",
       "      <td>15.5925</td>\n",
       "      <td>9.565427</td>\n",
       "      <td>49.89</td>\n",
       "      <td>1623.30</td>\n",
       "      <td>0.96217</td>\n",
       "      <td>5.120</td>\n",
       "      <td>5.2893</td>\n",
       "      <td>0.049521</td>\n",
       "      <td>0.174</td>\n",
       "      <td>c_americana</td>\n",
       "    </tr>\n",
       "    <tr>\n",
       "      <td>3</td>\n",
       "      <td>73</td>\n",
       "      <td>14.13</td>\n",
       "      <td>12.2220</td>\n",
       "      <td>7.182949</td>\n",
       "      <td>35.43</td>\n",
       "      <td>1412.25</td>\n",
       "      <td>0.90178</td>\n",
       "      <td>13.694</td>\n",
       "      <td>4.8168</td>\n",
       "      <td>0.049595</td>\n",
       "      <td>0.167</td>\n",
       "      <td>c_avellana</td>\n",
       "    </tr>\n",
       "    <tr>\n",
       "      <td>4</td>\n",
       "      <td>2</td>\n",
       "      <td>15.85</td>\n",
       "      <td>14.7240</td>\n",
       "      <td>8.622661</td>\n",
       "      <td>43.29</td>\n",
       "      <td>1512.00</td>\n",
       "      <td>0.96261</td>\n",
       "      <td>10.925</td>\n",
       "      <td>4.6296</td>\n",
       "      <td>0.050384</td>\n",
       "      <td>0.173</td>\n",
       "      <td>c_americana</td>\n",
       "    </tr>\n",
       "  </tbody>\n",
       "</table>\n",
       "</div>"
      ],
      "text/plain": [
       "   sample_id  length    width  thickness  surface_area     mass  compactness  \\\n",
       "0         71   11.67  12.8025   8.055075         34.65  1375.50      0.93005   \n",
       "1         72   13.86  13.0995   7.349907         38.10  1439.55      0.93401   \n",
       "2          1   20.53  15.5925   9.565427         49.89  1623.30      0.96217   \n",
       "3         73   14.13  12.2220   7.182949         35.43  1412.25      0.90178   \n",
       "4          2   15.85  14.7240   8.622661         43.29  1512.00      0.96261   \n",
       "\n",
       "   hardness  shell_radius  water_content  carbohydrate      variety  \n",
       "0    19.145        4.4604       0.048668         0.175   c_avellana  \n",
       "1     8.780        4.7844       0.048826         0.167   c_avellana  \n",
       "2     5.120        5.2893       0.049521         0.174  c_americana  \n",
       "3    13.694        4.8168       0.049595         0.167   c_avellana  \n",
       "4    10.925        4.6296       0.050384         0.173  c_americana  "
      ]
     },
     "execution_count": 63,
     "metadata": {},
     "output_type": "execute_result"
    }
   ],
   "source": [
    "for col in df.columns[0:len(df.columns) - 1]:\n",
    "    df[col] = pd.to_numeric(df[col])\n",
    "df.head(5)"
   ]
  },
  {
   "cell_type": "code",
   "execution_count": 64,
   "metadata": {},
   "outputs": [
    {
     "data": {
      "text/html": [
       "<div>\n",
       "<style scoped>\n",
       "    .dataframe tbody tr th:only-of-type {\n",
       "        vertical-align: middle;\n",
       "    }\n",
       "\n",
       "    .dataframe tbody tr th {\n",
       "        vertical-align: top;\n",
       "    }\n",
       "\n",
       "    .dataframe thead th {\n",
       "        text-align: right;\n",
       "    }\n",
       "</style>\n",
       "<table border=\"1\" class=\"dataframe\">\n",
       "  <thead>\n",
       "    <tr style=\"text-align: right;\">\n",
       "      <th></th>\n",
       "      <th>length</th>\n",
       "      <th>variety</th>\n",
       "    </tr>\n",
       "  </thead>\n",
       "  <tbody>\n",
       "    <tr>\n",
       "      <td>86</td>\n",
       "      <td>19.79</td>\n",
       "      <td>c_cornuta</td>\n",
       "    </tr>\n",
       "    <tr>\n",
       "      <td>14</td>\n",
       "      <td>19.79</td>\n",
       "      <td>c_cornuta</td>\n",
       "    </tr>\n",
       "    <tr>\n",
       "      <td>28</td>\n",
       "      <td>19.80</td>\n",
       "      <td>c_cornuta</td>\n",
       "    </tr>\n",
       "    <tr>\n",
       "      <td>76</td>\n",
       "      <td>19.98</td>\n",
       "      <td>c_cornuta</td>\n",
       "    </tr>\n",
       "    <tr>\n",
       "      <td>92</td>\n",
       "      <td>20.06</td>\n",
       "      <td>c_americana</td>\n",
       "    </tr>\n",
       "    <tr>\n",
       "      <td>189</td>\n",
       "      <td>20.17</td>\n",
       "      <td>c_cornuta</td>\n",
       "    </tr>\n",
       "    <tr>\n",
       "      <td>91</td>\n",
       "      <td>20.33</td>\n",
       "      <td>c_cornuta</td>\n",
       "    </tr>\n",
       "    <tr>\n",
       "      <td>156</td>\n",
       "      <td>20.37</td>\n",
       "      <td>c_cornuta</td>\n",
       "    </tr>\n",
       "    <tr>\n",
       "      <td>167</td>\n",
       "      <td>20.37</td>\n",
       "      <td>c_cornuta</td>\n",
       "    </tr>\n",
       "    <tr>\n",
       "      <td>143</td>\n",
       "      <td>20.51</td>\n",
       "      <td>c_cornuta</td>\n",
       "    </tr>\n",
       "    <tr>\n",
       "      <td>2</td>\n",
       "      <td>20.53</td>\n",
       "      <td>c_americana</td>\n",
       "    </tr>\n",
       "    <tr>\n",
       "      <td>89</td>\n",
       "      <td>20.59</td>\n",
       "      <td>c_cornuta</td>\n",
       "    </tr>\n",
       "    <tr>\n",
       "      <td>40</td>\n",
       "      <td>20.64</td>\n",
       "      <td>c_cornuta</td>\n",
       "    </tr>\n",
       "    <tr>\n",
       "      <td>177</td>\n",
       "      <td>20.84</td>\n",
       "      <td>c_cornuta</td>\n",
       "    </tr>\n",
       "    <tr>\n",
       "      <td>151</td>\n",
       "      <td>21.07</td>\n",
       "      <td>c_cornuta</td>\n",
       "    </tr>\n",
       "    <tr>\n",
       "      <td>5</td>\n",
       "      <td>21.11</td>\n",
       "      <td>c_cornuta</td>\n",
       "    </tr>\n",
       "    <tr>\n",
       "      <td>200</td>\n",
       "      <td>21.13</td>\n",
       "      <td>c_cornuta</td>\n",
       "    </tr>\n",
       "    <tr>\n",
       "      <td>110</td>\n",
       "      <td>21.44</td>\n",
       "      <td>c_cornuta</td>\n",
       "    </tr>\n",
       "    <tr>\n",
       "      <td>124</td>\n",
       "      <td>21.45</td>\n",
       "      <td>c_cornuta</td>\n",
       "    </tr>\n",
       "    <tr>\n",
       "      <td>57</td>\n",
       "      <td>21.52</td>\n",
       "      <td>c_cornuta</td>\n",
       "    </tr>\n",
       "    <tr>\n",
       "      <td>174</td>\n",
       "      <td>21.53</td>\n",
       "      <td>c_cornuta</td>\n",
       "    </tr>\n",
       "    <tr>\n",
       "      <td>17</td>\n",
       "      <td>21.54</td>\n",
       "      <td>c_cornuta</td>\n",
       "    </tr>\n",
       "    <tr>\n",
       "      <td>182</td>\n",
       "      <td>21.72</td>\n",
       "      <td>c_cornuta</td>\n",
       "    </tr>\n",
       "    <tr>\n",
       "      <td>19</td>\n",
       "      <td>21.73</td>\n",
       "      <td>c_cornuta</td>\n",
       "    </tr>\n",
       "    <tr>\n",
       "      <td>199</td>\n",
       "      <td>21.83</td>\n",
       "      <td>c_cornuta</td>\n",
       "    </tr>\n",
       "    <tr>\n",
       "      <td>166</td>\n",
       "      <td>21.91</td>\n",
       "      <td>c_cornuta</td>\n",
       "    </tr>\n",
       "    <tr>\n",
       "      <td>10</td>\n",
       "      <td>22.19</td>\n",
       "      <td>c_cornuta</td>\n",
       "    </tr>\n",
       "    <tr>\n",
       "      <td>183</td>\n",
       "      <td>22.27</td>\n",
       "      <td>c_cornuta</td>\n",
       "    </tr>\n",
       "    <tr>\n",
       "      <td>42</td>\n",
       "      <td>22.45</td>\n",
       "      <td>c_cornuta</td>\n",
       "    </tr>\n",
       "    <tr>\n",
       "      <td>52</td>\n",
       "      <td>22.48</td>\n",
       "      <td>c_cornuta</td>\n",
       "    </tr>\n",
       "    <tr>\n",
       "      <td>44</td>\n",
       "      <td>22.59</td>\n",
       "      <td>c_cornuta</td>\n",
       "    </tr>\n",
       "    <tr>\n",
       "      <td>155</td>\n",
       "      <td>22.71</td>\n",
       "      <td>c_cornuta</td>\n",
       "    </tr>\n",
       "    <tr>\n",
       "      <td>64</td>\n",
       "      <td>22.72</td>\n",
       "      <td>c_cornuta</td>\n",
       "    </tr>\n",
       "    <tr>\n",
       "      <td>173</td>\n",
       "      <td>22.85</td>\n",
       "      <td>c_cornuta</td>\n",
       "    </tr>\n",
       "    <tr>\n",
       "      <td>108</td>\n",
       "      <td>22.85</td>\n",
       "      <td>c_cornuta</td>\n",
       "    </tr>\n",
       "    <tr>\n",
       "      <td>84</td>\n",
       "      <td>23.03</td>\n",
       "      <td>c_cornuta</td>\n",
       "    </tr>\n",
       "    <tr>\n",
       "      <td>26</td>\n",
       "      <td>23.15</td>\n",
       "      <td>c_cornuta</td>\n",
       "    </tr>\n",
       "    <tr>\n",
       "      <td>68</td>\n",
       "      <td>23.66</td>\n",
       "      <td>c_cornuta</td>\n",
       "    </tr>\n",
       "    <tr>\n",
       "      <td>154</td>\n",
       "      <td>23.69</td>\n",
       "      <td>c_cornuta</td>\n",
       "    </tr>\n",
       "    <tr>\n",
       "      <td>148</td>\n",
       "      <td>23.84</td>\n",
       "      <td>c_cornuta</td>\n",
       "    </tr>\n",
       "    <tr>\n",
       "      <td>146</td>\n",
       "      <td>24.16</td>\n",
       "      <td>c_cornuta</td>\n",
       "    </tr>\n",
       "    <tr>\n",
       "      <td>73</td>\n",
       "      <td>24.45</td>\n",
       "      <td>c_cornuta</td>\n",
       "    </tr>\n",
       "    <tr>\n",
       "      <td>72</td>\n",
       "      <td>24.50</td>\n",
       "      <td>c_cornuta</td>\n",
       "    </tr>\n",
       "    <tr>\n",
       "      <td>170</td>\n",
       "      <td>24.93</td>\n",
       "      <td>c_cornuta</td>\n",
       "    </tr>\n",
       "    <tr>\n",
       "      <td>6</td>\n",
       "      <td>25.13</td>\n",
       "      <td>c_avellana</td>\n",
       "    </tr>\n",
       "    <tr>\n",
       "      <td>144</td>\n",
       "      <td>25.49</td>\n",
       "      <td>c_cornuta</td>\n",
       "    </tr>\n",
       "    <tr>\n",
       "      <td>69</td>\n",
       "      <td>25.63</td>\n",
       "      <td>c_cornuta</td>\n",
       "    </tr>\n",
       "    <tr>\n",
       "      <td>113</td>\n",
       "      <td>25.73</td>\n",
       "      <td>c_cornuta</td>\n",
       "    </tr>\n",
       "    <tr>\n",
       "      <td>149</td>\n",
       "      <td>25.79</td>\n",
       "      <td>c_cornuta</td>\n",
       "    </tr>\n",
       "    <tr>\n",
       "      <td>123</td>\n",
       "      <td>25.81</td>\n",
       "      <td>c_cornuta</td>\n",
       "    </tr>\n",
       "    <tr>\n",
       "      <td>180</td>\n",
       "      <td>26.75</td>\n",
       "      <td>c_cornuta</td>\n",
       "    </tr>\n",
       "  </tbody>\n",
       "</table>\n",
       "</div>"
      ],
      "text/plain": [
       "     length      variety\n",
       "86    19.79    c_cornuta\n",
       "14    19.79    c_cornuta\n",
       "28    19.80    c_cornuta\n",
       "76    19.98    c_cornuta\n",
       "92    20.06  c_americana\n",
       "189   20.17    c_cornuta\n",
       "91    20.33    c_cornuta\n",
       "156   20.37    c_cornuta\n",
       "167   20.37    c_cornuta\n",
       "143   20.51    c_cornuta\n",
       "2     20.53  c_americana\n",
       "89    20.59    c_cornuta\n",
       "40    20.64    c_cornuta\n",
       "177   20.84    c_cornuta\n",
       "151   21.07    c_cornuta\n",
       "5     21.11    c_cornuta\n",
       "200   21.13    c_cornuta\n",
       "110   21.44    c_cornuta\n",
       "124   21.45    c_cornuta\n",
       "57    21.52    c_cornuta\n",
       "174   21.53    c_cornuta\n",
       "17    21.54    c_cornuta\n",
       "182   21.72    c_cornuta\n",
       "19    21.73    c_cornuta\n",
       "199   21.83    c_cornuta\n",
       "166   21.91    c_cornuta\n",
       "10    22.19    c_cornuta\n",
       "183   22.27    c_cornuta\n",
       "42    22.45    c_cornuta\n",
       "52    22.48    c_cornuta\n",
       "44    22.59    c_cornuta\n",
       "155   22.71    c_cornuta\n",
       "64    22.72    c_cornuta\n",
       "173   22.85    c_cornuta\n",
       "108   22.85    c_cornuta\n",
       "84    23.03    c_cornuta\n",
       "26    23.15    c_cornuta\n",
       "68    23.66    c_cornuta\n",
       "154   23.69    c_cornuta\n",
       "148   23.84    c_cornuta\n",
       "146   24.16    c_cornuta\n",
       "73    24.45    c_cornuta\n",
       "72    24.50    c_cornuta\n",
       "170   24.93    c_cornuta\n",
       "6     25.13   c_avellana\n",
       "144   25.49    c_cornuta\n",
       "69    25.63    c_cornuta\n",
       "113   25.73    c_cornuta\n",
       "149   25.79    c_cornuta\n",
       "123   25.81    c_cornuta\n",
       "180   26.75    c_cornuta"
      ]
     },
     "execution_count": 64,
     "metadata": {},
     "output_type": "execute_result"
    }
   ],
   "source": [
    "df[['length','variety']].sort_values('length').iloc[150:,]"
   ]
  },
  {
   "cell_type": "code",
   "execution_count": 65,
   "metadata": {},
   "outputs": [
    {
     "data": {
      "text/plain": [
       "array([[11.67      , 12.8025    ,  8.05507474, ...,  4.4604    ,\n",
       "         0.04866769,  0.175     ],\n",
       "       [13.86      , 13.0995    ,  7.34990681, ...,  4.7844    ,\n",
       "         0.04882609,  0.167     ],\n",
       "       [20.53      , 15.5925    ,  9.56542658, ...,  5.2893    ,\n",
       "         0.04952132,  0.174     ],\n",
       "       ...,\n",
       "       [15.85      , 14.175     ,  8.86102724, ...,  4.5108    ,\n",
       "         0.10012315,  0.172     ],\n",
       "       [21.83      , 17.559     ,  9.8283084 , ...,  5.3316    ,\n",
       "         0.10056715,  0.174     ],\n",
       "       [21.13      , 17.514     ,  9.83713182, ...,  5.4081    ,\n",
       "         0.10087478,  0.175     ]])"
      ]
     },
     "execution_count": 65,
     "metadata": {},
     "output_type": "execute_result"
    }
   ],
   "source": [
    "x"
   ]
  },
  {
   "cell_type": "code",
   "execution_count": null,
   "metadata": {},
   "outputs": [],
   "source": []
  }
 ],
 "metadata": {
  "kernelspec": {
   "display_name": "Python 3",
   "language": "python",
   "name": "python3"
  },
  "language_info": {
   "codemirror_mode": {
    "name": "ipython",
    "version": 3
   },
   "file_extension": ".py",
   "mimetype": "text/x-python",
   "name": "python",
   "nbconvert_exporter": "python",
   "pygments_lexer": "ipython3",
   "version": "3.7.3"
  }
 },
 "nbformat": 4,
 "nbformat_minor": 2
}
